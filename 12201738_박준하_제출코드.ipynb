import numpy as np
import pandas as pd

def wind_alarm(df):
    '''
    풍속 데이터를 기반으로 강풍 특보 결과("주의보", "경보", "판단불가", "해당없음") 판단
    '''
    wind_result = np.full(len(df), '-', dtype=object)
    wind = df['풍속(m/s)']
    
    for i in range(len(df)):
        if i == len(df) - 1:  # 마지막 행은 다음 시점 데이터 없어 판단불가
            wind_result[i] = "판단불가"
            continue
        
        current = wind[i]
        next_wind = wind[i+1]

        if current >= 21:
            wind_result[i] = "경보"
        elif current >= 14:
            wind_result[i] = "주의보"
        else:
            wind_result[i] = "해당없음"

        # 특보 유지 조건
        if wind_result[i] == "주의보" and next_wind >= 14:
            wind_result[i+1] = "주의보"
        if wind_result[i] == "경보" and next_wind >= 21:
            wind_result[i+1] = "경보"

    return wind_result

def heat_alarm(df):
    '''
    기온 데이터를 기반으로 폭염 특보 결과 판단
    일 최고기온 기준으로 다음날과 다다음날 유지여부 확인
    '''
    heat_result = np.full(len(df), '-', dtype=object)
    df['일자'] = pd.to_datetime(df['일시']).dt.date
    grouped = df.groupby('일자')['기온(°C)'].max()
    
    for i in range(len(df)):
        date = df.loc[i, '일자']
        next_date = date + pd.Timedelta(days=1)
        next2_date = date + pd.Timedelta(days=2)
        
        if next_date not in grouped or next2_date not in grouped:
            heat_result[i] = "판단불가"
            continue
        
        next1_max = grouped[next_date]
        next2_max = grouped[next2_date]
        
        if next1_max >= 35 and next2_max >= 35:
            heat_result[i] = "경보"
        elif next1_max >= 33 and next2_max >= 33:
            heat_result[i] = "주의보"
        else:
            heat_result[i] = "해당없음"
    return heat_result

def dry_alarm(df):
    '''
    습도 데이터를 기반으로 건조 특보 결과 판단
    실효습도 계산 후 다음날과 다다음날 유지 여부 확인
    '''
    dry_result = np.full(len(df), '-', dtype=object)
    df['일자'] = pd.to_datetime(df['일시']).dt.date
    grouped = df.groupby('일자')['습도(%)'].mean()
    
    def effective_humidity(date):
        # 실효습도 = (당일*0.7 + 전날*0.2 + 전전날*0.1)
        return 0.7*grouped.get(date, np.nan) + \
               0.2*grouped.get(date - pd.Timedelta(days=1), np.nan) + \
               0.1*grouped.get(date - pd.Timedelta(days=2), np.nan)

    for i in range(len(df)):
        date = df.loc[i, '일자']
        next_date = date + pd.Timedelta(days=1)
        next2_date = date + pd.Timedelta(days=2)
        
        eh_next1 = effective_humidity(next_date)
        eh_next2 = effective_humidity(next2_date)
        
        if np.isnan(eh_next1) or np.isnan(eh_next2):
            dry_result[i] = "판단불가"
            continue
        
        if eh_next1 <= 25 and eh_next2 <= 25:
            dry_result[i] = "경보"
        elif eh_next1 <= 35 and eh_next2 <= 35:
            dry_result[i] = "주의보"
        else:
            dry_result[i] = "해당없음"
    return dry_result

def cold_alarm(df):
    '''
    기온 데이터를 기반으로 한파 특보 결과 판단
    10월~4월 기간에 다음날 아침 최저기온 기준 판단
    '''
    cold_result = np.full(len(df), '-', dtype=object)
    df['일자'] = pd.to_datetime(df['일시'])
    df['date_only'] = df['일자'].dt.date
    df['month'] = df['일자'].dt.month
    df['hour'] = df['일자'].dt.hour

    # 아침 3시~8시59분 최저기온 계산 (시간 3~8 포함)
    morning_temps = df[(df['hour'] >= 3) & (df['hour'] <= 8)]
    min_temp_by_date = morning_temps.groupby('date_only')['기온(°C)'].min()
    
    for i in range(len(df)):
        date = df.loc[i, 'date_only']
        month = df.loc[i, 'month']
        
        # 한파 특보는 10월~4월 기간만
        if month not in [10,11,12,1,2,3,4]:
            cold_result[i] = "해당없음"
            continue
        
        next_date = date + pd.Timedelta(days=1)
        next2_date = date + pd.Timedelta(days=2)
        
        # 오늘 아침 최저기온
        today_min = min_temp_by_date.get(date, np.nan)
        # 다음날 아침 최저기온
        next_min = min_temp_by_date.get(next_date, np.nan)
        # 다다음날 아침 최저기온
        next2_min = min_temp_by_date.get(next2_date, np.nan)
        
        if np.isnan(today_min) or np.isnan(next_min) or np.isnan(next2_min):
            cold_result[i] = "판단불가"
            continue
        
        # (1) 다음날 아침 최저기온이 오늘 아침보다 10°C 이상 하강하고 3°C 이하
        cond1_warn = (next_min <= 3) and ((today_min - next_min) >= 10)
        cond1_alert = (next_min <= 3) and ((today_min - next_min) >= 15)
        
        # (2) 다음날 아침 최저기온이 -12°C 이하 (주의보), -15°C 이하 (경보)
        cond2_warn = (next_min <= -12) and (next2_min <= -12)
        cond2_alert = (next_min <= -15) and (next2_min <= -15)
        
        if cond1_alert or cond2_alert:
            cold_result[i] = "경보"
        elif cond1_warn or cond2_warn:
            cold_result[i] = "주의보"
        else:
            cold_result[i] = "해당없음"

    return cold_result


# 검증용 간단 테스트 코드
if __name__ == "__main__":
    # 샘플 데이터 생성
    data = {
        '일시': ['2096-01-01 00:00', '2096-01-01 01:00', '2096-01-02 00:00', '2096-01-02 01:00', '2096-01-03 00:00'],
        '기온(°C)': [18.3, 19.1, 20.0, 21.5, 22.0],
        '풍속(m/s)': [13, 15, 10, 22, 23],
        '습도(%)': [40, 30, 25, 20, 15]
    }
    df_test = pd.DataFrame(data)
    
    print("강풍 특보:", wind_alarm(df_test))
    print("폭염 특보:", heat_alarm(df_test))
    print("건조 특보:", dry_alarm(df_test))
    print("한파 특보:", cold_alarm(df_test))
